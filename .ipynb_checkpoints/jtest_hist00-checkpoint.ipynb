{
 "cells": [
  {
   "cell_type": "code",
   "execution_count": 1,
   "id": "7c2bcb3a-47c9-4ba7-bf97-8bbdedf9f7aa",
   "metadata": {},
   "outputs": [],
   "source": [
    "import xarray as xr\n",
    "import schwabdev as sd\n",
    "import json\n"
   ]
  },
  {
   "cell_type": "code",
   "execution_count": null,
   "id": "1b712850-f700-4407-aa77-4d2632def26d",
   "metadata": {},
   "outputs": [],
   "source": []
  }
 ],
 "metadata": {
  "kernelspec": {
   "display_name": ".venv",
   "language": "python",
   "name": ".venv"
  },
  "language_info": {
   "codemirror_mode": {
    "name": "ipython",
    "version": 3
   },
   "file_extension": ".py",
   "mimetype": "text/x-python",
   "name": "python",
   "nbconvert_exporter": "python",
   "pygments_lexer": "ipython3",
   "version": "3.13.5"
  }
 },
 "nbformat": 4,
 "nbformat_minor": 5
}
