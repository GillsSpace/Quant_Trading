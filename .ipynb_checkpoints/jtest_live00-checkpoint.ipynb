{
 "cells": [
  {
   "cell_type": "code",
   "execution_count": 2,
   "id": "9fd7b095-d2fa-4898-9a15-b911925b4ea6",
   "metadata": {},
   "outputs": [],
   "source": [
    "import xarray as xr\n",
    "import schwabdev as sd\n",
    "import json\n",
    "import numpy as np\n",
    "import pandas as pd\n",
    "from datetime import datetime, date, timedelta, time\n",
    "import calendar\n",
    "import time as tm\n",
    "\n",
    "from universes.universe_config import Universe_Config as uc\n",
    "\n",
    "def create_client():\n",
    "    \"\"\"Create a Schwab client with API keys.\"\"\"\n",
    "    with open('keys.json', 'r') as f:\n",
    "        keys = json.load(f)\n",
    "\n",
    "    return sd.Client(keys['schwab']['app_key'], keys['schwab']['app_secret'])\n",
    "\n",
    "client = create_client()"
   ]
  },
  {
   "cell_type": "code",
   "execution_count": 6,
   "id": "45e0ac5b-0745-4ddb-9745-15093fec1e5a",
   "metadata": {},
   "outputs": [],
   "source": [
    "quotes_10 = []\n",
    "for i in range(10):\n",
    "    quotes10.append(uc.return_universe_quotes(\"u01\"))\n",
    "    tm.sleep(60)"
   ]
  },
  {
   "cell_type": "code",
   "execution_count": 16,
   "id": "3c856559-801f-4731-b2fe-51e14a66092b",
   "metadata": {},
   "outputs": [
    {
     "data": {
      "text/plain": [
       "Index(['assetMainType', 'assetSubType', 'quoteType', 'realtime', 'ssid',\n",
       "       'symbol', 'extended.askPrice', 'extended.askSize', 'extended.bidPrice',\n",
       "       'extended.bidSize', 'extended.lastPrice', 'extended.lastSize',\n",
       "       'extended.mark', 'extended.quoteTime', 'extended.totalVolume',\n",
       "       'extended.tradeTime', 'fundamental.avg10DaysVolume',\n",
       "       'fundamental.avg1YearVolume', 'fundamental.divAmount',\n",
       "       'fundamental.divFreq', 'fundamental.divPayAmount',\n",
       "       'fundamental.divYield', 'fundamental.eps',\n",
       "       'fundamental.fundLeverageFactor', 'fundamental.lastEarningsDate',\n",
       "       'fundamental.peRatio', 'quote.52WeekHigh', 'quote.52WeekLow',\n",
       "       'quote.askMICId', 'quote.askPrice', 'quote.askSize', 'quote.askTime',\n",
       "       'quote.bidMICId', 'quote.bidPrice', 'quote.bidSize', 'quote.bidTime',\n",
       "       'quote.closePrice', 'quote.highPrice', 'quote.lastMICId',\n",
       "       'quote.lastPrice', 'quote.lastSize', 'quote.lowPrice', 'quote.mark',\n",
       "       'quote.markChange', 'quote.markPercentChange', 'quote.netChange',\n",
       "       'quote.netPercentChange', 'quote.openPrice', 'quote.postMarketChange',\n",
       "       'quote.postMarketPercentChange', 'quote.quoteTime',\n",
       "       'quote.securityStatus', 'quote.totalVolume', 'quote.tradeTime',\n",
       "       'reference.cusip', 'reference.description', 'reference.exchange',\n",
       "       'reference.exchangeName', 'reference.isHardToBorrow',\n",
       "       'reference.isShortable', 'reference.htbQuantity', 'reference.htbRate',\n",
       "       'regular.regularMarketLastPrice', 'regular.regularMarketLastSize',\n",
       "       'regular.regularMarketNetChange', 'regular.regularMarketPercentChange',\n",
       "       'regular.regularMarketTradeTime', 'fundamental.declarationDate',\n",
       "       'fundamental.divExDate', 'fundamental.divPayDate',\n",
       "       'fundamental.nextDivExDate', 'fundamental.nextDivPayDate',\n",
       "       'reference.otcMarketTier', 'reference.fsiCode', 'reference.fsiDesc',\n",
       "       'invalidSymbols'],\n",
       "      dtype='object')"
      ]
     },
     "execution_count": 16,
     "metadata": {},
     "output_type": "execute_result"
    }
   ],
   "source": [
    "# quotes1 = quotes1.set_index('ident')\n",
    "quotes1.columns"
   ]
  }
 ],
 "metadata": {
  "kernelspec": {
   "display_name": ".venv",
   "language": "python",
   "name": ".venv"
  },
  "language_info": {
   "codemirror_mode": {
    "name": "ipython",
    "version": 3
   },
   "file_extension": ".py",
   "mimetype": "text/x-python",
   "name": "python",
   "nbconvert_exporter": "python",
   "pygments_lexer": "ipython3",
   "version": "3.13.5"
  }
 },
 "nbformat": 4,
 "nbformat_minor": 5
}
